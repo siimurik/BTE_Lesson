{
 "cells": [
  {
   "cell_type": "code",
   "execution_count": 1,
   "metadata": {},
   "outputs": [],
   "source": [
    "import numpy as np\n",
    "from numba import njit, int64, float64, int32\n",
    "from scipy import sparse\n",
    "import timeit"
   ]
  },
  {
   "cell_type": "code",
   "execution_count": 2,
   "metadata": {},
   "outputs": [
    {
     "name": "stdout",
     "output_type": "stream",
     "text": [
      "[[0.  0.  0.1]\n",
      " [0.  0.2 0. ]\n",
      " [0.3 0.  0. ]]\n",
      "(array([0.1, 0.2, 0.3]), array([0, 1, 2]), array([2, 1, 0], dtype=int32))\n",
      "  (0, 2)\t0.1\n",
      "  (1, 1)\t0.2\n",
      "  (2, 0)\t0.3\n"
     ]
    }
   ],
   "source": [
    "@njit((float64[:], int64[:], int64[:], int64), fastmath=True)\n",
    "def create_sparse_matrix(data, rows, cols, nrows):\n",
    "    nnz = len(data)\n",
    "\n",
    "    indptr = np.zeros(nrows, dtype=int32)\n",
    "    indices = np.zeros(nnz, dtype=int32)\n",
    "    data_csr = np.zeros(nnz, dtype=float64)\n",
    "\n",
    "    for i in range(nnz):\n",
    "        indptr[rows[i] + 1] += 1\n",
    "        indices[i] = cols[i]\n",
    "        data_csr[i] = data[i]\n",
    "\n",
    "    indptr = np.cumsum(indptr)\n",
    "    return data_csr, indptr, indices\n",
    "\n",
    "\n",
    "def format_sparse_matrix(data, rows, cols, nrows, ncols):\n",
    "    sparse_matrix = create_sparse_matrix(data, rows, cols, nrows)\n",
    "    dense_matrix = np.zeros((nrows, ncols))\n",
    "\n",
    "    for i in range(len(data)):\n",
    "        row = rows[i]\n",
    "        col = cols[i]\n",
    "        value = data[i]\n",
    "        dense_matrix[row, col] = value\n",
    "\n",
    "    return dense_matrix\n",
    "\n",
    "data = np.array([0.1, 0.2, 0.3])\n",
    "rows = np.array([0, 1, 2])\n",
    "cols = np.array([2, 1, 0])\n",
    "nrows = 3\n",
    "ncols = 3\n",
    "\n",
    "dense_matrix = format_sparse_matrix(data, rows, cols, nrows, ncols)\n",
    "print(dense_matrix)\n",
    "\n",
    "sparse_matrix = create_sparse_matrix(data, rows, cols, nrows)\n",
    "print(sparse_matrix)\n",
    "sparse_matrix_scipy = sparse.coo_matrix((data, (rows, cols)), shape=(nrows, ncols))\n",
    "print(sparse_matrix_scipy)"
   ]
  },
  {
   "cell_type": "code",
   "execution_count": 3,
   "metadata": {},
   "outputs": [
    {
     "name": "stdout",
     "output_type": "stream",
     "text": [
      "Number of iterations: 100000\n",
      "Benchmark Results:\n",
      "scipy.sparse.coo_matrix: 8.888024165999923\n",
      "NumPy and Numba: 0.6421734119999201\n",
      "Speedup: 13.84x\n"
     ]
    }
   ],
   "source": [
    "# Benchmark test\n",
    "#def benchmark():\n",
    "num_iterations = 100000\n",
    "print(f\"Number of iterations: {num_iterations}\")\n",
    "\n",
    "# Data, rows, cols, and shape for sparse matrix construction\n",
    "data = np.random.rand(1000)\n",
    "rows = np.random.randint(0, 100, 1000)\n",
    "cols = np.random.randint(0, 100, 1000)\n",
    "shape = (1000, 1000)\n",
    "\n",
    "# Benchmark construction using scipy.sparse.coo_matrix\n",
    "def benchmark_scipy():\n",
    "    for _ in range(num_iterations):\n",
    "        sparse_matrix = sparse.coo_matrix((data, (rows, cols)), shape=shape)\n",
    "\n",
    "# Benchmark construction using NumPy and Numba\n",
    "def benchmark_numpy_numba():\n",
    "    for _ in range(num_iterations):\n",
    "        sparse_matrix = create_sparse_matrix(data, rows, cols, shape[0])\n",
    "\n",
    "# Run the benchmarks\n",
    "time_scipy = timeit.timeit(benchmark_scipy, number=1)\n",
    "time_numpy_numba = timeit.timeit(benchmark_numpy_numba, number=1)\n",
    "\n",
    "# Print the results\n",
    "print(\"Benchmark Results:\")\n",
    "print(\"scipy.sparse.coo_matrix:\", time_scipy)\n",
    "print(\"NumPy and Numba:\", time_numpy_numba)\n",
    "# Calculate the speedup\n",
    "speedup = time_scipy / time_numpy_numba\n",
    "print(f\"Speedup: {speedup:.2f}x\")"
   ]
  }
 ],
 "metadata": {
  "kernelspec": {
   "display_name": "python310",
   "language": "python",
   "name": "python3"
  },
  "language_info": {
   "codemirror_mode": {
    "name": "ipython",
    "version": 3
   },
   "file_extension": ".py",
   "mimetype": "text/x-python",
   "name": "python",
   "nbconvert_exporter": "python",
   "pygments_lexer": "ipython3",
   "version": "3.10.12"
  },
  "orig_nbformat": 4
 },
 "nbformat": 4,
 "nbformat_minor": 2
}
