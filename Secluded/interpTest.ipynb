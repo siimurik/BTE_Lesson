{
 "cells": [
  {
   "cell_type": "code",
   "execution_count": 7,
   "metadata": {},
   "outputs": [],
   "source": [
    "import numpy as np\n",
    "import time\n",
    "from scipy.interpolate import interp1d\n",
    "from numba import njit"
   ]
  },
  {
   "cell_type": "code",
   "execution_count": 8,
   "metadata": {},
   "outputs": [],
   "source": [
    "@njit\n",
    "def interp1d_numba(x, y, x_new):\n",
    "    \"\"\"\n",
    "    Linear interpolation function using NumPy and Numba.\n",
    "    \n",
    "    Parameters:\n",
    "        x (array-like): 1-D array of x-coordinates of data points.\n",
    "        y (array-like): 1-D array of y-coordinates of data points.\n",
    "        x_new (array-like): 1-D array of x-coordinates for which to interpolate.\n",
    "        \n",
    "    Returns:\n",
    "        array-like: 1-D array of interpolated values corresponding to x_new.\n",
    "    \"\"\"\n",
    "    x = np.asarray(x)\n",
    "    y = np.asarray(y)\n",
    "    x_new = np.asarray(x_new)\n",
    "    \n",
    "    # Sorting based on x\n",
    "    sorted_indices = np.argsort(x)\n",
    "    x_sorted = x[sorted_indices]\n",
    "    y_sorted = y[sorted_indices]\n",
    "    \n",
    "    # Find indices of the nearest points for interpolation\n",
    "    idx = np.searchsorted(x_sorted, x_new, side='right') - 1\n",
    "    idx = np.clip(idx, 0, len(x_sorted) - 2)\n",
    "    \n",
    "    # Compute weights for interpolation\n",
    "    x0 = x_sorted[idx]\n",
    "    x1 = x_sorted[idx + 1]\n",
    "    y0 = y_sorted[idx]\n",
    "    y1 = y_sorted[idx + 1]\n",
    "    weights = (x_new - x0) / (x1 - x0)\n",
    "    \n",
    "    # Perform linear interpolation\n",
    "    interpolated_values = y0 + (y1 - y0) * weights\n",
    "    return interpolated_values\n"
   ]
  },
  {
   "cell_type": "code",
   "execution_count": 9,
   "metadata": {},
   "outputs": [
    {
     "name": "stdout",
     "output_type": "stream",
     "text": [
      "[1. 3. 5. 7.]\n"
     ]
    }
   ],
   "source": [
    "# Sample data for interpolation\n",
    "x = np.array([0, 1, 2, 3, 4])\n",
    "y = np.array([0, 2, 4, 6, 8])\n",
    "\n",
    "# New x-coordinates for interpolation\n",
    "x_new = np.array([0.5, 1.5, 2.5, 3.5])\n",
    "\n",
    "# Interpolate using the custom function\n",
    "result = interp1d_numba(x, y, x_new)\n",
    "print(result)  # Output: [1. 3. 5. 7.]"
   ]
  },
  {
   "cell_type": "code",
   "execution_count": 17,
   "metadata": {},
   "outputs": [
    {
     "name": "stdout",
     "output_type": "stream",
     "text": [
      "True\n",
      "Scipy interpolation time: 0.0011532306671142578\n",
      "Custom Numba interpolation time: 0.002240896224975586\n"
     ]
    }
   ],
   "source": [
    "# Sample data for interpolation\n",
    "x = np.linspace(0, 100, 1000)\n",
    "y = np.sin(x)\n",
    "\n",
    "# New x-coordinates for interpolation\n",
    "x_new = np.linspace(0, 100, 100000)\n",
    "\n",
    "# Using scipy.interpolate.interp1d()\n",
    "start_time = time.time()\n",
    "f_scipy = interp1d(x, y, kind='linear')\n",
    "result_scipy = f_scipy(x_new)\n",
    "scipy_time = time.time() - start_time\n",
    "\n",
    "# Using custom interp1d_numba function\n",
    "start_time = time.time()\n",
    "result_custom = interp1d_numba(x, y, x_new)\n",
    "custom_time = time.time() - start_time\n",
    "\n",
    "# Compare the results to make sure they are similar\n",
    "print(np.allclose(result_scipy, result_custom))\n",
    "\n",
    "# Print the execution times\n",
    "print(\"Scipy interpolation time:\", scipy_time)\n",
    "print(\"Custom Numba interpolation time:\", custom_time)\n"
   ]
  }
 ],
 "metadata": {
  "kernelspec": {
   "display_name": "python310",
   "language": "python",
   "name": "python3"
  },
  "language_info": {
   "codemirror_mode": {
    "name": "ipython",
    "version": 3
   },
   "file_extension": ".py",
   "mimetype": "text/x-python",
   "name": "python",
   "nbconvert_exporter": "python",
   "pygments_lexer": "ipython3",
   "version": "3.10.12"
  },
  "orig_nbformat": 4
 },
 "nbformat": 4,
 "nbformat_minor": 2
}
